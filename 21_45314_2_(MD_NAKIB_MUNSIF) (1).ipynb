
    {
      "cell_type": "code",
      "source": [
        "numbers = [1, 2, 3, 4, 5, 6, 7, 8, 9, 10]\n",
        "print(numbers)"
      ],
      "metadata": {
        "colab": {
          "base_uri": "https://localhost:8080/"
        },
        "id": "aKrTMW8fxk4s",
        "outputId": "3813898f-8238-4974-c237-27c4f691202e"
      },
      "execution_count": null,
      "outputs": [
        {
          "output_type": "stream",
          "name": "stdout",
          "text": [
            "[1, 2, 3, 4, 5, 6, 7, 8, 9, 10]\n"
          ]
        }
      ]
    },
    {
      "cell_type": "code",
      "source": [
        "numbers = [1, 2, 3, 4, 5, 6, 7, 8, 9, 10]\n",
        "squared_numbers = []\n",
        "\n",
        "# Append the square of each number to the new list\n",
        "for num in numbers:\n",
        "    squared_numbers.append(num ** 2)\n",
        "\n",
        "print(squared_numbers)\n"
      ],
      "metadata": {
        "colab": {
          "base_uri": "https://localhost:8080/"
        },
        "id": "tdaDFtxByhzL",
        "outputId": "1d54fa8e-c430-44cd-8db2-d8b127e12f0e"
      },
      "execution_count": null,
      "outputs": [
        {
          "output_type": "stream",
          "name": "stdout",
          "text": [
            "[1, 4, 9, 16, 25, 36, 49, 64, 81, 100]\n"
          ]
        }
      ]
    },
    {
      "cell_type": "markdown",
      "source": [
        "Tuple Operations:"
      ],
      "metadata": {
        "id": "3eTXpSEQy2Xl"
      }
    },
    {
      "cell_type": "code",
      "source": [
        "even_numbers = tuple(i for i in range(2, 12, 2))\n",
        "print(even_numbers)\n"
      ],
      "metadata": {
        "colab": {
          "base_uri": "https://localhost:8080/"
        },
        "id": "CLHHsjhhy_1l",
        "outputId": "b2081393-5094-46b4-cdb8-33dbbb38eb67"
      },
      "execution_count": null,
      "outputs": [
        {
          "output_type": "stream",
          "name": "stdout",
          "text": [
            "(2, 4, 6, 8, 10)\n"
          ]
        }
      ]
    },
    {
      "cell_type": "code",
      "source": [
        "even_numbers = (4, 6, 8, 10)\n",
        "\n",
        "\n",
        "product = 1\n",
        "\n",
        "# Multiply each element to the product\n",
        "for num in even_numbers:\n",
        "    product *= num\n",
        "\n",
        "print(\"Product of all elements in the tuple:\", product)\n"
      ],
      "metadata": {
        "colab": {
          "base_uri": "https://localhost:8080/"
        },
        "id": "rYqW44YCzJZV",
        "outputId": "2dc62292-c5ae-45a4-cfb5-562fd03ceefd"
      },
      "execution_count": null,
      "outputs": [
        {
          "output_type": "stream",
          "name": "stdout",
          "text": [
            "Product of all elements in the tuple: 1920\n"
          ]
        }
      ]
    },
    {
      "cell_type": "markdown",
      "source": [
        "Set Operations:\n"
      ],
      "metadata": {
        "id": "pUvqET7CzaFi"
      }
    },
    {
      "cell_type": "code",
      "source": [
        "odd_numbers_set1 = {num for num in range(1, 11) if num % 2 != 0}\n",
        "odd_numbers_set2 = {num for num in range(1, 11, 2)}\n",
        "\n",
        "print(\"Set 1 of odd numbers between 1 and 10:\", odd_numbers_set1)\n",
        "print(\"Set 2 of odd numbers between 1 and 10:\", odd_numbers_set2)\n"
      ],
      "metadata": {
        "colab": {
          "base_uri": "https://localhost:8080/"
        },
        "id": "iGkHUdNqzbuz",
        "outputId": "af56da19-e24d-4694-b0e2-ca73ba23eaca"
      },
      "execution_count": null,
      "outputs": [
        {
          "output_type": "stream",
          "name": "stdout",
          "text": [
            "Set 1 of odd numbers between 1 and 10: {1, 3, 5, 7, 9}\n",
            "Set 2 of odd numbers between 1 and 10: {1, 3, 5, 7, 9}\n"
          ]
        }
      ]
    },
    {
      "cell_type": "code",
      "source": [
        "odd_numbers_set1 = {1, 3, 5, 7, 9}\n",
        "odd_numbers_set2 = {1, 3, 5, 7, 9}\n",
        "\n",
        "# Find the union of the two sets\n",
        "union_set = odd_numbers_set1.union(odd_numbers_set2)\n",
        "\n",
        "print(\"Union of the two sets:\", union_set)\n"
      ],
      "metadata": {
        "colab": {
          "base_uri": "https://localhost:8080/"
        },
        "id": "XzOMthqUzfvZ",
        "outputId": "2c875227-d314-46eb-8901-98773224561a"
      },
      "execution_count": null,
      "outputs": [
        {
          "output_type": "stream",
          "name": "stdout",
          "text": [
            "Union of the two sets: {1, 3, 5, 7, 9}\n"
          ]
        }
      ]
    },
    {
      "cell_type": "code",
      "source": [
        "odd_numbers_set1 = {1, 5, 7, 9}\n",
        "odd_numbers_set2 = {1, 3, 7, 9}\n",
        "\n",
        "# Find the intersection of the two sets\n",
        "intersection_set = odd_numbers_set1.intersection(odd_numbers_set2)\n",
        "\n",
        "print(\"Intersection of the two sets:\", intersection_set)\n"
      ],
      "metadata": {
        "colab": {
          "base_uri": "https://localhost:8080/"
        },
        "id": "WxgcvlWzzlwz",
        "outputId": "7f6bae61-4977-4b43-c65e-1d20bd4452d4"
      },
      "execution_count": null,
      "outputs": [
        {
          "output_type": "stream",
          "name": "stdout",
          "text": [
            "Intersection of the two sets: {1, 9, 7}\n"
          ]
        }
      ]
    },
    {
      "cell_type": "markdown",
      "source": [
        "Dictionary Operations:"
      ],
      "metadata": {
        "id": "N10ujMWqzzA6"
      }
    },
    {
      "cell_type": "code",
      "source": [
        "\n",
        "ascii_dict = {chr(ord('a') + i): ord('a') + i for i in range(5)}\n",
        "\n",
        "print(\"Dictionary:\", ascii_dict)\n"
      ],
      "metadata": {
        "colab": {
          "base_uri": "https://localhost:8080/"
        },
        "id": "Bco5NlPKz1At",
        "outputId": "c668acde-83d8-447c-f3ed-cc1082721174"
      },
      "execution_count": null,
      "outputs": [
        {
          "output_type": "stream",
          "name": "stdout",
          "text": [
            "Dictionary: {'a': 97, 'b': 98, 'c': 99, 'd': 100, 'e': 101}\n"
          ]
        }
      ]
    },
    {
      "cell_type": "code",
      "source": [
        "ascii_dict = {'a': 98, 'b': 99, 'c': 100, 'd': 110, 'e': 111}\n",
        "\n",
        "print(\"Dictionary:\", ascii_dict)\n"
      ],
      "metadata": {
        "colab": {
          "base_uri": "https://localhost:8080/"
        },
        "id": "nge9cRef0Cg3",
        "outputId": "3f23f056-b85a-42aa-f231-46eb1e13ca91"
      },
      "execution_count": null,
      "outputs": [
        {
          "output_type": "stream",
          "name": "stdout",
          "text": [
            "Dictionary: {'a': 98, 'b': 99, 'c': 100, 'd': 110, 'e': 111}\n"
          ]
        }
      ]
    },
    {
      "cell_type": "markdown",
      "source": [
        "Functional Programming:"
      ],
      "metadata": {
        "id": "ojeq65Ht0Lhx"
      }
    },
    {
      "cell_type": "code",
      "source": [
        "def square(x):\n",
        "    \"\"\"Return the square of a number x.\"\"\"\n",
        "    return x ** 3\n"
      ],
      "metadata": {
        "id": "HdlPnei00QYb"
      },
      "execution_count": null,
      "outputs": []
    },
    {
      "cell_type": "code",
      "source": [
        "# Define the square function\n",
        "def square(x):\n",
        "    return x ** 3\n",
        "\n",
        "# Create a list of integers from 1 to 10\n",
        "numbers = list(range(1, 11))\n",
        "\n",
        "# Use the map function to apply the square function to each element in the list\n",
        "squared_numbers = map(square, numbers)\n",
        "\n",
        "# Print the result\n",
        "print(list(squared_numbers))\n"
      ],
      "metadata": {
        "colab": {
          "base_uri": "https://localhost:8080/"
        },
        "id": "ohwsW2cY0YvH",
        "outputId": "ddb4dc86-e74e-4b9f-cffd-e5b8ab6c7021"
      },
      "execution_count": null,
      "outputs": [
        {
          "output_type": "stream",
          "name": "stdout",
          "text": [
            "[1, 8, 27, 64, 125, 216, 343, 512, 729, 1000]\n"
          ]
        }
      ]
    }
  ],
  "metadata": {
    "kernelspec": {
      "display_name": "Python 3",
      "language": "python",
      "name": "python3"
    },
    "language_info": {
      "codemirror_mode": {
        "name": "ipython",
        "version": 3
      },
      "file_extension": ".py",
      "mimetype": "text/x-python",
      "name": "python",
      "nbconvert_exporter": "python",
      "pygments_lexer": "ipython3",
      "version": "3.8.5"
    },
    "colab": {
      "provenance": [],
      "toc_visible": true
    }
  },
  "nbformat": 4,
  "nbformat_minor": 0
}
